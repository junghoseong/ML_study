{
 "cells": [
  {
   "cell_type": "markdown",
   "metadata": {},
   "source": [
    "# 알파제로와 머신러닝 개요\n",
    "\n",
    "## 1-1 알파고와 알파고 제로, 그리고 알파제로\n",
    "\n",
    "### 1-1-1 알파고\n",
    "AlphaGo는 DeepMind에서 개발한 컴퓨터 바둑 프로그램으로, 핸디캡이 주어지지 않은 상태에서 프로 바둑 기사에게 승리를 거둔 최초의 게임 AI다.\n",
    "알파고는 과거부터 사용되던 '몬테카를로 트리 탐색', '알고리즘 기반의 탐색을 활용한 예측 능력', '딥러닝을 활용한 국면에서 최선의 수를 예측하는 직감', '강화학습을 활용한 셀프 플레이에서 얻은 경험' 등을 조합하여 최강의 AI가 되었다."
   ]
  },
  {
   "cell_type": "code",
   "execution_count": null,
   "metadata": {},
   "outputs": [],
   "source": []
  }
 ],
 "metadata": {
  "kernelspec": {
   "display_name": "gym",
   "language": "python",
   "name": "gym"
  },
  "language_info": {
   "codemirror_mode": {
    "name": "ipython",
    "version": 3
   },
   "file_extension": ".py",
   "mimetype": "text/x-python",
   "name": "python",
   "nbconvert_exporter": "python",
   "pygments_lexer": "ipython3",
   "version": "3.8.5"
  }
 },
 "nbformat": 4,
 "nbformat_minor": 4
}
